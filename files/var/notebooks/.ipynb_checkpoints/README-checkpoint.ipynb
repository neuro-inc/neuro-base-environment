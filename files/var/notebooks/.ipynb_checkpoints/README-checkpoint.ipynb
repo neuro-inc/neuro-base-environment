{
 "cells": [
  {
   "cell_type": "markdown",
   "metadata": {},
   "source": [
    "# README"
   ]
  },
  {
   "cell_type": "markdown",
   "metadata": {},
   "source": [
    "Welcome to Jupyter Notebooks on [Neu.ro](https://neu.ro). This guide contains information about this instance setup and data ingestion recommendations. "
   ]
  },
  {
   "cell_type": "markdown",
   "metadata": {},
   "source": [
    "## Setup"
   ]
  },
  {
   "cell_type": "markdown",
   "metadata": {},
   "source": [
    "This instance runs on `neuromation/base` Docker image, which contains actual versions of various ML frameworks (like Pytorch and Tensorflow). To get a complete list of packages, run:"
   ]
  },
  {
   "cell_type": "code",
   "execution_count": 1,
   "metadata": {},
   "outputs": [
    {
     "name": "stdout",
     "output_type": "stream",
     "text": [
      "Package                       Version       Location\n",
      "----------------------------- ------------- --------------------------------------------------------\n",
      "absl-py                       0.9.0\n",
      "aiodocker                     0.18.8\n",
      "aiohttp                       3.6.2\n",
      "aiohttp-admin                 0.0.3\n",
      "aiohttp-jinja2                1.2.0\n",
      "aiohttp-security              0.4.0\n",
      "aiohttp-session               2.9.0\n",
      "alabaster                     0.7.12\n",
      "albumentations                0.4.5\n",
      "alembic                       1.4.0\n",
      "allensdk                      2.0.1\n",
      "altair                        4.1.0\n",
      "aniso8601                     8.0.0\n",
      "apache-airflow                1.10.10\n",
      "apispec                       1.3.3\n",
      "appdirs                       1.4.3\n",
      "argcomplete                   1.11.1\n",
      "args                          0.1.0\n",
      "argschema                     1.17.5\n",
      "arrow                         0.15.6\n",
      "astor                         0.8.1\n",
      "async-timeout                 3.0.1\n",
      "atomicwrites                  1.4.0\n",
      "atpublic                      1.0\n",
      "attrs                         19.3.0\n",
      "aye                           0.0.1rc0\n",
      "Babel                         2.8.0\n",
      "backcall                      0.1.0\n",
      "base58                        2.0.0\n",
      "bcrypt                        3.1.7\n",
      "binaryornot                   0.4.4\n",
      "black                         19.10b0\n",
      "bleach                        3.1.4\n",
      "blinker                       1.4\n",
      "boto3                         1.12.30\n",
      "botocore                      1.15.30\n",
      "brainio                       0.0.20\n",
      "brainrender                   0.4.0.0\n",
      "cached-property               1.5.1\n",
      "cachetools                    4.1.0\n",
      "cachey                        0.2.1\n",
      "cattrs                        0.9.0\n",
      "certifi                       2020.6.20\n",
      "cffi                          1.14.0\n",
      "chardet                       3.0.4\n",
      "click                         7.1.2\n",
      "click-completion              0.5.2\n",
      "clint                         0.5.1\n",
      "cloudpickle                   1.3.0\n",
      "colorama                      0.4.3\n",
      "colorclass                    2.2.0\n",
      "colorlog                      4.0.2\n",
      "configobj                     5.0.6\n",
      "configparser                  3.5.3\n",
      "cookiecutter                  1.7.2\n",
      "croniter                      0.3.31\n",
      "cryptography                  2.9\n",
      "cycler                        0.10.0\n",
      "Cython                        0.29.16\n",
      "dask                          2.19.0\n",
      "databricks-cli                0.10.0\n",
      "dbus-next                     0.1.3\n",
      "dbus-python                   1.2.16\n",
      "decorator                     4.4.2\n",
      "defusedxml                    0.6.0\n",
      "demjson                       2.2.4\n",
      "detectron2                    0.1.1+cu101\n",
      "dill                          0.3.1.1\n",
      "distlib                       0.3.0\n",
      "distro                        1.5.0\n",
      "docker                        4.2.0\n",
      "docker-pycreds                0.4.0\n",
      "docopt                        0.6.2\n",
      "docutils                      0.15.2\n",
      "dpath                         2.0.1\n",
      "dvc                           1.1.7\n",
      "ecdsa                         0.15\n",
      "entrypoints                   0.3\n",
      "enum-compat                   0.0.3\n",
      "environs                      7.3.1\n",
      "essentia                      2.1b6.dev184\n",
      "f.lux-indicator-applet        1.2.1-pre\n",
      "Faker                         4.0.2\n",
      "filelock                      3.0.12\n",
      "flake8                        3.7.9\n",
      "flake8-isort                  3.0.0\n",
      "flaky                         3.6.1\n",
      "Flask                         1.1.2\n",
      "Flask-Admin                   1.5.4\n",
      "Flask-AppBuilder              2.2.4\n",
      "Flask-Babel                   1.0.0\n",
      "Flask-Bcrypt                  0.7.1\n",
      "Flask-Caching                 1.3.3\n",
      "Flask-Cors                    3.0.8\n",
      "Flask-DebugToolbar            0.11.0\n",
      "Flask-Jsonpify                1.5.0\n",
      "Flask-JWT-Extended            3.24.1\n",
      "Flask-Login                   0.4.1\n",
      "Flask-Migrate                 2.5.3\n",
      "Flask-OpenID                  1.2.5\n",
      "Flask-RESTful                 0.3.8\n",
      "Flask-SQLAlchemy              2.4.1\n",
      "Flask-Static-Digest           0.1.3\n",
      "flask-swagger                 0.2.13\n",
      "Flask-WTF                     0.14.3\n",
      "flatten-json                  0.1.7\n",
      "floyd-cli                     0.11.17\n",
      "flufl.lock                    3.2\n",
      "freetype-py                   2.1.0.post1\n",
      "funcsigs                      1.0.2\n",
      "funcy                         1.14\n",
      "future                        0.18.2\n",
      "fvcore                        0.1.dev200414\n",
      "gast                          0.2.2\n",
      "gevent                        1.5.0\n",
      "git-up                        1.6.1\n",
      "gitdb                         4.0.4\n",
      "GitPython                     3.1.1\n",
      "Glymur                        0.8.19\n",
      "google-auth                   1.13.1\n",
      "google-auth-oauthlib          0.4.1\n",
      "google-pasta                  0.2.0\n",
      "gorilla                       0.3.0\n",
      "gql                           0.2.0\n",
      "grandalf                      0.6\n",
      "graphql-core                  1.1\n",
      "graphviz                      0.13.2\n",
      "greenlet                      0.4.15\n",
      "grpcio                        1.28.1\n",
      "gunicorn                      19.10.0\n",
      "h5py                          2.10.0\n",
      "hdmf                          1.6.3\n",
      "HeapDict                      1.0.1\n",
      "humanize                      2.4.0\n",
      "idna                          2.9\n",
      "imagecodecs                   2020.2.18\n",
      "imageio                       2.8.0\n",
      "imageio-ffmpeg                0.4.1\n",
      "imagesize                     1.2.0\n",
      "imgaug                        0.2.6\n",
      "imlib                         0.0.25\n",
      "importlib-metadata            1.6.0\n",
      "imutils                       0.5.3\n",
      "inflect                       3.0.2\n",
      "ipydatawidgets                4.0.1\n",
      "ipykernel                     5.2.1\n",
      "ipython                       7.13.0\n",
      "ipython-genutils              0.2.0\n",
      "ipywidgets                    7.5.1\n",
      "iso8601                       0.1.12\n",
      "isort                         4.3.21\n",
      "itsdangerous                  1.1.0\n",
      "jamjam                        0.0.1         /home/ay/github/mine/jamjam-api/src\n",
      "jamjam-api                    0.0.1         /home/ay/github/mine/jamjam-api/src\n",
      "jedi                          0.17.0\n",
      "Jinja2                        2.10.3\n",
      "jinja2-time                   0.2.0\n",
      "jmespath                      0.9.5\n",
      "joblib                        0.14.1\n",
      "json-merge-patch              0.2\n",
      "json5                         0.9.3\n",
      "jsonpath-ng                   1.5.1\n",
      "jsonschema                    3.2.0\n",
      "jupyter                       1.0.0\n",
      "jupyter-client                6.1.3\n",
      "jupyter-console               6.1.0\n",
      "jupyter-core                  4.6.3\n",
      "jupyterlab                    2.0.1\n",
      "jupyterlab-server             1.0.7\n",
      "jupyterthemes                 0.20.0\n",
      "jwt                           1.0.0\n",
      "K3D                           2.8.2\n",
      "kaggle                        1.5.6\n",
      "Keras                         2.3.1\n",
      "Keras-Applications            1.0.8\n",
      "Keras-Preprocessing           1.1.0\n",
      "kiwisolver                    1.1.0\n",
      "kubernetes                    11.0.0\n",
      "lazy-object-proxy             1.4.3\n",
      "lesscpy                       0.14.0\n",
      "lmdb                          0.98\n",
      "lockfile                      0.12.2\n",
      "luddite                       1.0.1\n",
      "luigi                         2.8.13\n",
      "Mako                          1.1.1\n",
      "Markdown                      2.6.11\n",
      "MarkupSafe                    1.1.1\n",
      "marshmallow                   2.19.5\n",
      "marshmallow-enum              1.5.1\n",
      "marshmallow-sqlalchemy        0.22.2\n",
      "matplotlib                    3.2.1\n",
      "mccabe                        0.6.1\n",
      "micrometa                     0.0.11\n",
      "mistune                       0.8.4\n",
      "mlflow                        1.8.0\n",
      "mock                          4.0.2\n",
      "more-itertools                8.2.0\n",
      "morphapi                      0.1.1.3\n",
      "motor                         2.1.0\n",
      "motortwit                     0.0.1         /home/ay/github/opensource/aiohttp_admin/demos/motortwit\n",
      "moviepy                       1.0.2\n",
      "mpmath                        1.1.0\n",
      "msgpack                       1.0.0\n",
      "multidict                     4.7.6\n",
      "mypy                          0.770\n",
      "mypy-extensions               0.4.3\n",
      "nanotime                      0.5.2\n",
      "napari                        0.3.5\n",
      "napari-plugin-engine          0.1.6\n",
      "napari-svg                    0.1.3\n",
      "natsort                       7.0.1\n",
      "nbconvert                     5.6.1\n",
      "nbformat                      5.0.6\n",
      "nest-asyncio                  1.2.0\n",
      "networkx                      2.3\n",
      "neuro                         0.0.16\n",
      "neuro-airflow-plugin          0.0.1\n",
      "neuro-extras                  20.4.21\n",
      "neurom                        1.4.20\n",
      "neuromation                   20.7.14\n",
      "nibabel                       3.1.0\n",
      "nodejs                        0.1.1\n",
      "notebook                      6.0.3\n",
      "numexpr                       2.7.1\n",
      "numpy                         1.18.2\n",
      "numpydoc                      1.0.0\n",
      "nvidia-ml-py3                 7.352.0\n",
      "oauthlib                      3.1.0\n",
      "opencv-python                 4.2.0.34\n",
      "opt-einsum                    3.2.1\n",
      "optimus-manager               1.3\n",
      "optional-django               0.1.0\n",
      "packaging                     20.3\n",
      "pandas                        0.25.3\n",
      "pandocfilters                 1.4.2\n",
      "parso                         0.7.0\n",
      "pathlib2                      2.3.5\n",
      "pathspec                      0.7.0\n",
      "pathtools                     0.1.2\n",
      "patsy                         0.5.1\n",
      "pbr                           5.4.5\n",
      "pendulum                      1.4.4\n",
      "pexpect                       4.8.0\n",
      "pickleshare                   0.7.5\n",
      "Pillow                        7.1.2\n",
      "pip                           20.1.1\n",
      "pip-upgrader                  1.4.15\n",
      "pipdeptree                    1.0.0\n",
      "pluggy                        0.13.1\n",
      "ply                           3.11\n",
      "polyaxon                      1.1.0\n",
      "polyaxon-sdk                  1.1.0\n",
      "portalocker                   1.7.0\n",
      "poyo                          0.5.0\n",
      "prison                        0.1.2\n",
      "proglog                       0.1.9\n",
      "prometheus-client             0.7.1\n",
      "prometheus-flask-exporter     0.13.0\n",
      "promise                       2.3\n",
      "prompt-toolkit                3.0.5\n",
      "protobuf                      3.11.3\n",
      "psutil                        5.7.0\n",
      "psycopg2-binary               2.8.5\n",
      "ptyprocess                    0.6.0\n",
      "pur                           5.3.0\n",
      "py                            1.8.1\n",
      "pyasn1                        0.4.8\n",
      "pyasn1-modules                0.2.8\n",
      "pycairo                       1.19.1\n",
      "pycodestyle                   2.5.0\n",
      "pycosat                       0.6.3\n",
      "pycparser                     2.20\n",
      "pydeck                        0.3.0\n",
      "pydot                         1.4.1\n",
      "pyflakes                      2.1.1\n",
      "Pygments                      2.6.1\n",
      "PyGObject                     3.36.1\n",
      "pygtrie                       2.3.2\n",
      "PyJWT                         1.7.1\n",
      "pylru                         1.2.0\n",
      "pymongo                       3.10.1\n",
      "pynrrd                        0.4.2\n",
      "pynwb                         1.3.2\n",
      "PyOpenGL                      3.1.5\n",
      "pyparsing                     2.4.6\n",
      "PyQt5                         5.14.2\n",
      "PyQt5-sip                     12.8.0\n",
      "pyrsistent                    0.16.0\n",
      "pyte                          0.8.0\n",
      "pytest                        5.4.1\n",
      "pytest-asyncio                0.10.0\n",
      "python-daemon                 2.1.2\n",
      "python-dateutil               2.8.1\n",
      "python-dotenv                 0.12.0\n",
      "python-editor                 1.0.4\n",
      "python-jose                   3.1.0\n",
      "python-slugify                4.0.0\n",
      "python3-openid                3.1.0\n",
      "pytz                          2019.3\n",
      "pytzdata                      2019.3\n",
      "PyWavelets                    1.1.1\n",
      "PyYAML                        5.3.1\n",
      "pyzmq                         19.0.0\n",
      "qtconsole                     4.7.3\n",
      "QtPy                          1.9.0\n",
      "querystring-parser            1.2.4\n",
      "raven                         6.10.0\n",
      "regex                         2020.2.20\n",
      "requests                      2.23.0\n",
      "requests-oauthlib             1.3.0\n",
      "requests-toolbelt             0.9.1\n",
      "rope                          0.17.0\n",
      "rsa                           4.0\n",
      "ruamel.yaml                   0.16.10\n",
      "ruamel.yaml.clib              0.2.0\n",
      "s3transfer                    0.3.3\n",
      "scikit-build                  0.11.1\n",
      "scikit-image                  0.17.2\n",
      "scikit-learn                  0.22.2.post1\n",
      "scipy                         1.4.1\n",
      "seaborn                       0.10.1\n",
      "Send2Trash                    1.5.0\n",
      "sentry-sdk                    0.14.3\n",
      "setproctitle                  1.1.10\n",
      "setuptools                    47.1.1\n",
      "shellingham                   1.3.2\n",
      "shortuuid                     1.0.1\n",
      "shtab                         1.1.0\n",
      "SimpleITK                     1.2.4\n",
      "simplejson                    3.17.0\n",
      "six                           1.15.0\n",
      "sklearn                       0.0\n",
      "slurmio                       0.0.5\n",
      "smmap                         3.0.2\n",
      "snowballstemmer               2.0.0\n",
      "Sphinx                        3.1.1\n",
      "sphinxcontrib-applehelp       1.0.2\n",
      "sphinxcontrib-devhelp         1.0.2\n",
      "sphinxcontrib-htmlhelp        1.0.3\n",
      "sphinxcontrib-jsmath          1.0.1\n",
      "sphinxcontrib-qthelp          1.0.3\n",
      "sphinxcontrib-serializinghtml 1.1.4\n",
      "SQLAlchemy                    1.3.13\n",
      "SQLAlchemy-JSONField          0.9.0\n",
      "SQLAlchemy-Utils              0.36.1\n",
      "sqlparse                      0.3.1\n",
      "statsmodels                   0.9.0\n",
      "stevedore                     2.0.0\n",
      "streamlit                     0.57.0\n",
      "subprocess32                  3.5.4\n",
      "supervisor                    4.1.0\n",
      "sympy                         1.5.1\n",
      "tables                        3.5.1\n",
      "tabulate                      0.8.7\n",
      "tenacity                      4.12.0\n",
      "tensorboard                   1.15.0\n",
      "tensorboard-plugin-wit        1.6.0.post3\n",
      "tensorflow                    1.15.2\n",
      "tensorflow-estimator          1.15.1\n",
      "termcolor                     1.1.0\n",
      "terminado                     0.8.3\n",
      "terminaltables                3.1.0\n",
      "testfixtures                  6.14.0\n",
      "testpath                      0.4.4\n",
      "text-unidecode                1.3\n",
      "texttable                     1.6.2\n",
      "thefuck                       3.30\n",
      "thrift                        0.13.0\n",
      "tifffile                      2020.5.11\n",
      "toml                          0.10.1\n",
      "toolz                         0.10.0\n",
      "torch                         1.4.0\n",
      "tornado                       5.1.1\n",
      "tqdm                          4.45.0\n",
      "trafaret                      1.2.0\n",
      "traitlets                     4.3.3\n",
      "traittypes                    0.2.1\n",
      "treelib                       1.6.1\n",
      "typed-ast                     1.4.1\n",
      "typing-extensions             3.7.4.2\n",
      "tzlocal                       1.5.1\n",
      "ujson                         3.0.0\n",
      "unicodecsv                    0.14.1\n",
      "urllib3                       1.25.9\n",
      "validators                    0.14.3\n",
      "vedo                          2020.3.3\n",
      "virtualenv                    20.0.21\n",
      "virtualenv-clone              0.5.4\n",
      "virtualenvwrapper             4.8.4\n",
      "vispy                         0.6.4\n",
      "voluptuous                    0.11.7\n",
      "vtk                           8.1.2\n",
      "vtkplotter                    2020.3.1\n",
      "wandb                         0.8.32\n",
      "watchdog                      0.10.2\n",
      "wcwidth                       0.2.3\n",
      "webencodings                  0.5.1\n",
      "websocket-client              0.57.0\n",
      "Werkzeug                      0.16.1\n",
      "wheel                         0.34.2\n",
      "whichcraft                    0.6.1\n",
      "widgetsnbextension            3.5.1\n",
      "wrapt                         1.12.1\n",
      "WTForms                       2.2.1\n",
      "xarray                        0.15.1\n",
      "yacs                          0.1.6\n",
      "yandex-music                  0.0.7\n",
      "yarl                          1.4.2\n",
      "zc.lockfile                   2.0\n",
      "zipp                          3.1.0\n",
      "zope.deprecation              4.4.0\n"
     ]
    },
    {
     "name": "stderr",
     "output_type": "stream",
     "text": [
      "Executing <Handle IOLoop._run_callback(functools.par...ueues.py:217>)) created at /home/ay/.local/lib/python3.7/site-packages/tornado/platform/asyncio.py:154> took 0.607 seconds\n"
     ]
    }
   ],
   "source": [
    "! pip list"
   ]
  },
  {
   "cell_type": "markdown",
   "metadata": {},
   "source": [
    "You have full access to your platform storage at `/var/storage`. This directory is also a working one for this instance:"
   ]
  },
  {
   "cell_type": "code",
   "execution_count": 2,
   "metadata": {},
   "outputs": [
    {
     "name": "stdout",
     "output_type": "stream",
     "text": [
      "README.ipynb\r\n"
     ]
    },
    {
     "name": "stderr",
     "output_type": "stream",
     "text": [
      "Executing <Handle IOLoop._run_callback(functools.par...ueues.py:217>)) created at /home/ay/.local/lib/python3.7/site-packages/tornado/platform/asyncio.py:154> took 0.133 seconds\n"
     ]
    }
   ],
   "source": [
    "! ls"
   ]
  },
  {
   "cell_type": "markdown",
   "metadata": {},
   "source": [
    "To terminate this instance, you may click on the \"Quit\" button on the Jupyter Notebooks main screen or on the \"Kill\" button on your Neu.ro dashboard. Also, this instance is automatically shut down after 2 hours of inactivity (if no one interacts with it and there are no running cells)."
   ]
  },
  {
   "cell_type": "markdown",
   "metadata": {},
   "source": [
    "## Data Ingestion"
   ]
  },
  {
   "cell_type": "markdown",
   "metadata": {},
   "source": [
    "To use a public dataset with Neu.ro in Jupyter Notebooks, you need to download an archive with a dataset from a public resource, unpack it and put on the platform storage. \n",
    "\n",
    "The platform storage is designed for a lot of parallel read but few parallel write operations, thus we do not recommend unpacking archives in a folder of the platform storage (in this case, in `/var/storage`). \n",
    "\n",
    "The recommended flow is the following:"
   ]
  },
  {
   "cell_type": "markdown",
   "metadata": {},
   "source": [
    "* Install recommended packages:"
   ]
  },
  {
   "cell_type": "code",
   "execution_count": null,
   "metadata": {},
   "outputs": [
    {
     "name": "stdout",
     "output_type": "stream",
     "text": [
      "/usr/bin/sh: apt-get: command not found\n",
      "/usr/bin/sh: apt-get: command not found\n",
      "  % Total    % Received % Xferd  Average Speed   Time    Time     Time  Current\n",
      "                                 Dload  Upload   Total   Spent    Left  Speed\n",
      "100  4436  100  4436    0     0  14885      0 --:--:-- --:--:-- --:--:-- 14885\n",
      "  % Total    % Received % Xferd  Average Speed   Time    Time     Time  Current\n",
      "                                 Dload  Upload   Total   Spent    Left  Speed\n",
      "100    15  100    15    0     0     77      0 --:--:-- --:--:-- --:--:--    77\n",
      "  % Total    % Received % Xferd  Average Speed   Time    Time     Time  Current\n",
      "                                 Dload  Upload   Total   Spent    Left  Speed\n",
      " 25 13.0M   25 3344k    0     0  1202k      0  0:00:11  0:00:02  0:00:09 1201k"
     ]
    }
   ],
   "source": [
    "! apt-get update\n",
    "! apt-get --assume-yes install wget unzip\n",
    "! curl https://rclone.org/install.sh | bash"
   ]
  },
  {
   "cell_type": "markdown",
   "metadata": {},
   "source": [
    "* Make a temporary directory (`/var/tmp`):"
   ]
  },
  {
   "cell_type": "code",
   "execution_count": null,
   "metadata": {},
   "outputs": [],
   "source": [
    "! mkdir ../tmp"
   ]
  },
  {
   "cell_type": "markdown",
   "metadata": {},
   "source": [
    "* Download an archive:"
   ]
  },
  {
   "cell_type": "code",
   "execution_count": null,
   "metadata": {},
   "outputs": [],
   "source": [
    "! wget http://data.neu.ro/bone-age-tiny.zip -O ../tmp/bone-age-tiny.zip "
   ]
  },
  {
   "cell_type": "markdown",
   "metadata": {},
   "source": [
    "* Unpack an archive in a temporary directory:"
   ]
  },
  {
   "cell_type": "code",
   "execution_count": null,
   "metadata": {},
   "outputs": [],
   "source": [
    "! unzip ../tmp/bone-age-tiny.zip -d ../tmp/bone-age-tiny"
   ]
  },
  {
   "cell_type": "markdown",
   "metadata": {},
   "source": [
    "* Check the unzipped files:"
   ]
  },
  {
   "cell_type": "code",
   "execution_count": null,
   "metadata": {},
   "outputs": [],
   "source": [
    "! ls ../tmp/bone-age-tiny"
   ]
  },
  {
   "cell_type": "markdown",
   "metadata": {},
   "source": [
    "* Copy the data from the temporary directory (`/var/temp`) to the storage directory (`/var/storage`):"
   ]
  },
  {
   "cell_type": "code",
   "execution_count": null,
   "metadata": {},
   "outputs": [],
   "source": [
    "! rclone copy --checkers=16 --transfers=8 ../tmp/bone-age-tiny ./bone-age-tiny"
   ]
  },
  {
   "cell_type": "markdown",
   "metadata": {},
   "source": [
    "* Check the copied files:"
   ]
  },
  {
   "cell_type": "code",
   "execution_count": null,
   "metadata": {},
   "outputs": [],
   "source": [
    "! ls ./bone-age-tiny"
   ]
  },
  {
   "cell_type": "markdown",
   "metadata": {},
   "source": [
    "Remember that all files you don't move to storage before the instance is shut down are lost."
   ]
  }
 ],
 "metadata": {
  "kernelspec": {
   "display_name": "Python 3",
   "language": "python",
   "name": "python3"
  },
  "language_info": {
   "codemirror_mode": {
    "name": "ipython",
    "version": 3
   },
   "file_extension": ".py",
   "mimetype": "text/x-python",
   "name": "python",
   "nbconvert_exporter": "python",
   "pygments_lexer": "ipython3",
   "version": "3.7.6"
  }
 },
 "nbformat": 4,
 "nbformat_minor": 4
}
