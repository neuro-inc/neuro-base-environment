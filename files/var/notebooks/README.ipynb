{
 "cells": [
  {
   "cell_type": "markdown",
   "metadata": {},
   "source": [
    "# Moving files between the storage and my local file system \n",
    "You can use the `neuro cp SOURCE DESTINATION` command to move files between the storage and the host machine. \n",
    "\n",
    "For moving folders, you must use the recursive copy command so that the folder contents are also moved: `neuro cp -r SOURCE DESTINATION`.\n",
    "\n",
    "Remember the following key points before moving files or folders to and from storage: \n",
    "- The command assumes that the path provided is relative. \n",
    "- File and folder names are case-sensitive.\n",
    "\n",
    "Examples: \n",
    "\n",
    "- To move files from local machine to storage, use the command `neuro cp parameters.txt storage:nero-assistant`. This command copies the file `parameters.txt` from the local host machine to the storage folder `nero-assistant`.\n",
    "    > neuro cp parameters.txt storage:nero-assistant\n",
    "    Copy 'file:///C:/Projects/parameters.txt' => 'storage://neuro-public/.../parameters.txt' 'parameters.txt' 952B\n",
    "\n",
    "- To move files from storage to the local machine, use the command `neuro cp storage:nero-assistant/TestResults.txt file:///Projects`. This command copies the `TestResults.txt` file from the storage folder nero-assistant to the local host machine.\n",
    "    > neuro cp storage:nero-assistant/TestResults.txt file:///Projects \n",
    "    Copy 'storage://neuro-public/.../TestResults.txt' => 'file:///C:/Projects/TestResults.txt' 'TestResults.txt' 1.5K\n",
    "\n",
    "- To move folder from local host system to storage, use the command `neuro cp -r samplecode storage:nero-assistant`. This command copies the folder samplecode and all its files to the storage folder nero-assistant.\n",
    "    > neuro cp -r samplecode storage:nero-assistant \n",
    "    Copy 'file:///C:/Projects/samplecode' => 'storage://neuro-public/.../nero-assistant/samplecode' 'file:///C:/Projects/samplecode\n",
    "\n",
    "- To move folders from storage to the local host, use the command `neuro cp -r storage:nero-assistant/testlogs file:///Projects`. This command copies the storage folder testlogs and all its files to the local host machine.\n",
    "    > neuro cp -r storage:nero-assistant/testlogs file:///Projects \n",
    "    Copy 'storage://neuro-public/.../nero-assistant/testlogs' => 'file:///C:/Projects/testlogs' 'storage://neuro-public/clarytyllc/nero-assistant/testlogs' ...\n"
   ]
  },
  {
   "cell_type": "code",
   "execution_count": null,
   "metadata": {},
   "outputs": [],
   "source": []
  }
 ],
 "metadata": {
  "kernelspec": {
   "display_name": "Python 3",
   "language": "python",
   "name": "python3"
  },
  "language_info": {
   "codemirror_mode": {
    "name": "ipython",
    "version": 3
   },
   "file_extension": ".py",
   "mimetype": "text/x-python",
   "name": "python",
   "nbconvert_exporter": "python",
   "pygments_lexer": "ipython3",
   "version": "3.6.9"
  }
 },
 "nbformat": 4,
 "nbformat_minor": 4
}
