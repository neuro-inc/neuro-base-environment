{
 "cells": [
  {
   "cell_type": "markdown",
   "metadata": {},
   "source": [
    "# README"
   ]
  },
  {
   "cell_type": "markdown",
   "metadata": {},
   "source": [
    "Welcome to Jupyter Notebooks on [Apolo](https://apolo.us). This guide contains information about this instance setup and data ingestion recommendations. "
   ]
  },
  {
   "cell_type": "markdown",
   "metadata": {},
   "source": [
    "## Setup"
   ]
  },
  {
   "cell_type": "markdown",
   "metadata": {},
   "source": [
    "This instance runs on `ghcr.io/neuro-inc/base` Docker image, which contains recent versions of various ML frameworks (like Pytorch and Tensorflow).\n",
    "\n",
    "Since Pytorch and Tensorflow might have some conflicting dependencies, we split those to a dedicated conda environments. They are based on a \"base\" enviroment, where other shared dependencies are installed.\n",
    "\n",
    "You could select needed environment while starting a notebook kernel.\n",
    "\n",
    "To list all environments, run:"
   ]
  },
  {
   "cell_type": "code",
   "execution_count": null,
   "metadata": {
    "vscode": {
     "languageId": "bat"
    }
   },
   "outputs": [],
   "source": [
    "! conda env list"
   ]
  },
  {
   "cell_type": "markdown",
   "metadata": {},
   "source": [
    "To list all installed packages in the default (\"base\") envionment, perform:"
   ]
  },
  {
   "cell_type": "code",
   "execution_count": null,
   "metadata": {
    "vscode": {
     "languageId": "bat"
    }
   },
   "outputs": [],
   "source": [
    "! conda list"
   ]
  },
  {
   "cell_type": "markdown",
   "metadata": {},
   "source": [
    "To list all installed packages in a tensorflow envionment, perform:"
   ]
  },
  {
   "cell_type": "code",
   "execution_count": null,
   "metadata": {},
   "outputs": [],
   "source": [
    "! conda list -n tf"
   ]
  },
  {
   "cell_type": "markdown",
   "metadata": {},
   "source": [
    "To list all installed packages in pytorch environment, perform:"
   ]
  },
  {
   "cell_type": "code",
   "execution_count": null,
   "metadata": {},
   "outputs": [],
   "source": [
    "! conda list -n torch"
   ]
  },
  {
   "cell_type": "markdown",
   "metadata": {},
   "source": [
    "You have full access to your platform storage at `/var/storage`. This directory is also a working one for this instance:"
   ]
  },
  {
   "cell_type": "code",
   "execution_count": null,
   "metadata": {},
   "outputs": [],
   "source": [
    "! ls"
   ]
  },
  {
   "cell_type": "markdown",
   "metadata": {},
   "source": [
    "To terminate this instance, you may click on the \"Quit\" button on the Jupyter Notebooks main screen or on the \"Kill\" button on your Apolo dashboard. Also, this instance is automatically shut down after 2 hours of inactivity (if no one interacts with it and there are no running cells)."
   ]
  },
  {
   "cell_type": "markdown",
   "metadata": {},
   "source": [
    "## Data Ingestion"
   ]
  },
  {
   "cell_type": "markdown",
   "metadata": {},
   "source": [
    "To use a public dataset with Apolo in Jupyter Notebooks, you need to download an archive with a dataset from a public resource, unpack it and put on the platform storage. \n",
    "\n",
    "The platform storage is designed for a lot of parallel read but few parallel write operations, thus we do not recommend unpacking archives in a folder of the platform storage (in this case, in `/var/storage`). \n",
    "\n",
    "The recommended flow is: downloading dataset into a temp directory (`/tmp`), preprocessing it, then copying it to the mounter storage at `/var/storage`."
   ]
  },
  {
   "cell_type": "markdown",
   "metadata": {},
   "source": [
    "Remember that all files you don't move to storage before the instance is shut down are lost."
   ]
  }
 ],
 "metadata": {
  "kernelspec": {
   "display_name": "Python 3",
   "language": "python",
   "name": "python3"
  },
  "language_info": {
   "codemirror_mode": {
    "name": "ipython",
    "version": 3
   },
   "file_extension": ".py",
   "mimetype": "text/x-python",
   "name": "python",
   "nbconvert_exporter": "python",
   "pygments_lexer": "ipython3",
   "version": "3.7.7"
  }
 },
 "nbformat": 4,
 "nbformat_minor": 4
}
